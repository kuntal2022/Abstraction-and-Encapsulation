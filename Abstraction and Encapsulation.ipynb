{
 "cells": [
  {
   "cell_type": "markdown",
   "id": "9c80ba3b",
   "metadata": {},
   "source": [
    "# Q1. What is Abstraction in OOps? Explain with an example."
   ]
  },
  {
   "cell_type": "markdown",
   "id": "db5dcf7e",
   "metadata": {},
   "source": [
    "# Ans\n",
    "\n",
    "\n",
    "### Abstraction is used to hide the internal functionality of the function from the users. The users only interact with the basic implementation of the function, but inner working is hidden. User is familiar with that \"what function does\" but they don't know \"how it does.\""
   ]
  },
  {
   "cell_type": "code",
   "execution_count": 55,
   "id": "d9a286a5",
   "metadata": {},
   "outputs": [
    {
     "name": "stdout",
     "output_type": "stream",
     "text": [
      "The mileage is 30kmph\n",
      "The mileage is 27kmph \n",
      "The mileage is 25kmph \n",
      "The mileage is 24kmph \n"
     ]
    }
   ],
   "source": [
    "# Python program demonstrate  \n",
    "# abstract base class work   \n",
    "from abc import ABC, abstractmethod   \n",
    "class Car(ABC):   \n",
    "    @abstractmethod # use decorator\n",
    "    def mileage(self):   \n",
    "        pass  \n",
    "  \n",
    "class Tesla(Car):   \n",
    "    def mileage(self):   \n",
    "        print(\"The mileage is 30kmph\")   \n",
    "class Suzuki(Car):   \n",
    "    def mileage(self):   \n",
    "        print(\"The mileage is 25kmph \")   \n",
    "class Duster(Car):   \n",
    "     def mileage(self):   \n",
    "          print(\"The mileage is 24kmph \")   \n",
    "  \n",
    "class Renault(Car):   \n",
    "    def mileage(self):   \n",
    "            print(\"The mileage is 27kmph \")   \n",
    "          \n",
    "# Driver code   \n",
    "t= Tesla ()   \n",
    "t.mileage()   \n",
    "  \n",
    "r = Renault()   \n",
    "r.mileage()   \n",
    "  \n",
    "s = Suzuki()   \n",
    "s.mileage()   \n",
    "d = Duster()   \n",
    "d.mileage()  "
   ]
  },
  {
   "cell_type": "markdown",
   "id": "50086d5f",
   "metadata": {},
   "source": [
    "# Q2. Differentiate between Abstraction and Encapsulation. Explain with an example \n",
    "\n",
    "## ANS\n",
    "\n",
    "\n",
    "##### i). Abstraction shows only useful data by providing the most necessary details, whereas Encapsulation wraps code and data for necessary information.\n",
    "##### ii). Abstraction is focused mainly on what should be done, while Encapsulation is focused on how it should be done.\n",
    "##### iii). Abstraction hides complexity by giving you a more abstract picture, while Encapsulation hides internal work so that you can change it later.\n",
    "#### iv). Abstraction helps you to partition the program into many independent portions, whereas Encapsulation is easy to change with new requirements.\n",
    "#### v).Comparing Encapsulation vs Abstraction, Abstraction solves problems at the design level while Encapsulation solves problems at the implementation level.\n",
    "#### vi).Abstraction hides the irrelevant details found in the code, whereas Encapsulation helps developers to organize the entire code easily."
   ]
  },
  {
   "cell_type": "code",
   "execution_count": 56,
   "id": "30bcea34",
   "metadata": {},
   "outputs": [
    {
     "name": "stdout",
     "output_type": "stream",
     "text": [
      "The mileage is 22 kmph\n",
      "The mileage is Maruthi\n"
     ]
    }
   ],
   "source": [
    "# abstract\n",
    "\n",
    "from abc import ABC, abstractmethod   \n",
    "class Car1(ABC): \n",
    "    @abstractmethod\n",
    "    def mileage(self):   \n",
    "        pass  \n",
    "    def name(self):\n",
    "        pass\n",
    "  \n",
    "class Maruthi(Car1):   \n",
    "    def mileage(self):   \n",
    "        return(\"The mileage is 22 kmph\")\n",
    "    def name(self):   \n",
    "        return(\"The mileage is Maruthi\")\n",
    "#c=Car1()\n",
    "        \n",
    "       \n",
    "T=Maruthi()\n",
    "print(T.mileage())\n",
    "print(T.name())"
   ]
  },
  {
   "cell_type": "code",
   "execution_count": 57,
   "id": "5ef22648",
   "metadata": {},
   "outputs": [
    {
     "name": "stdout",
     "output_type": "stream",
     "text": [
      "('Maruthi', 300000, 32) Before setting a new milage\n",
      "\n",
      "('Maruthi', 300000, 40) After setting a new milage\n"
     ]
    }
   ],
   "source": [
    "#encapsulation\n",
    "\n",
    "class Car1:\n",
    "    def __init__(self, name, cost, milage):\n",
    "        self.__milage=milage\n",
    "        self.__name=name\n",
    "        self.__cost=cost\n",
    "    def get_details(self): # getter\n",
    "        return(self.__name, self.__cost, self.__milage)\n",
    "    def set_milage(self,new_milage): # setter\n",
    "        self.__milage=new_milage\n",
    "        \n",
    "c1= Car1(\"Maruthi\", 300000, 32)  \n",
    "print(c1.get_details(), \"Before setting a new milage\") # we cant change directly any parameter\n",
    "\n",
    "# to change parameter we need to create one setter\n",
    "c1.set_milage(40)\n",
    "print()\n",
    "print(c1.get_details(), \"After setting a new milage\")\n",
    "\n",
    "    "
   ]
  },
  {
   "cell_type": "markdown",
   "id": "aa4f2147",
   "metadata": {},
   "source": [
    "# Q3. What is abc module in python? Why is it used?"
   ]
  },
  {
   "cell_type": "markdown",
   "id": "b304e1e4",
   "metadata": {},
   "source": [
    "# Ans\n",
    "\n",
    "\n",
    "#### The 'abc' module in Python library provides the infrastructure for defining custom abstract base classes. 'abc' works by marking methods of the base class as abstract. This is done by @absttractmethod decorator. \n",
    "\n",
    "\n",
    "#### It is use to make a method as this module provides the infrastructure for defining abstract base classes (ABCs) in Python,"
   ]
  },
  {
   "cell_type": "code",
   "execution_count": 58,
   "id": "558cbdac",
   "metadata": {},
   "outputs": [
    {
     "name": "stdout",
     "output_type": "stream",
     "text": [
      "my_abc is a abstractmethod\n"
     ]
    }
   ],
   "source": [
    "from abc import ABC, abstractmethod\n",
    "\n",
    "class my_abc:\n",
    "    @abstractmethod\n",
    "    def avc(self):\n",
    "        pass\n",
    "class your_abc(my_abc):   \n",
    "    def see():   \n",
    "        print(\"my_abc is a abstractmethod\")        \n",
    "        \n",
    "        \n",
    "u_abc= your_abc\n",
    "u_abc.see()"
   ]
  },
  {
   "cell_type": "markdown",
   "id": "6dab06f2",
   "metadata": {},
   "source": [
    "# Q4. How can we achieve data abstraction?"
   ]
  },
  {
   "cell_type": "markdown",
   "id": "326dafe5",
   "metadata": {},
   "source": [
    "#ANS \n",
    " \n",
    " #### Data abstraction in Python can be done using the following methods: - Using list comprehensions to transform multiple values into a single value - Using map function to transform multiple values into an array - Using filter function to transform only those items that meet certain criteria - Using reduce function to combine two or more items into a single value Abstractions allow developers to write code without worrying about how the code will be executed on the computer\n",
    " \n",
    " \n"
   ]
  },
  {
   "cell_type": "markdown",
   "id": "c7d8b94a",
   "metadata": {},
   "source": [
    "# Q5. Can we create an instance of an abstract class? Explain your answer in python"
   ]
  },
  {
   "attachments": {
    "image-2.png": {
     "image/png": "[encoded data removed]"
    }
   },
   "cell_type": "markdown",
   "id": "6fca77da",
   "metadata": {},
   "source": [
    "# ANS: \n",
    "    \n",
    "the abstract class can’t be instantiated, as these abstract classs will have some incomplete methods, so we can't creat an object of an abstract class\n",
    "\n",
    "if we try to create it will give an error like below\n",
    "\n",
    "![image-2.png](attachment:image-2.png)"
   ]
  },
  {
   "cell_type": "code",
   "execution_count": 59,
   "id": "8daaa959",
   "metadata": {},
   "outputs": [
    {
     "ename": "TypeError",
     "evalue": "Can't instantiate abstract class Car_x with abstract method mileage",
     "output_type": "error",
     "traceback": [
      "\u001b[1;31m---------------------------------------------------------------------------\u001b[0m",
      "\u001b[1;31mTypeError\u001b[0m                                 Traceback (most recent call last)",
      "\u001b[1;32m~\\AppData\\Local\\Temp\\ipykernel_10692\\3700727189.py\u001b[0m in \u001b[0;36m<module>\u001b[1;34m\u001b[0m\n\u001b[0;32m      9\u001b[0m         \u001b[1;32mpass\u001b[0m\u001b[1;33m\u001b[0m\u001b[1;33m\u001b[0m\u001b[0m\n\u001b[0;32m     10\u001b[0m \u001b[1;33m\u001b[0m\u001b[0m\n\u001b[1;32m---> 11\u001b[1;33m \u001b[0mc3\u001b[0m\u001b[1;33m=\u001b[0m\u001b[0mCar_x\u001b[0m\u001b[1;33m(\u001b[0m\u001b[1;33m)\u001b[0m \u001b[1;31m# it will give an error\u001b[0m\u001b[1;33m\u001b[0m\u001b[1;33m\u001b[0m\u001b[0m\n\u001b[0m\u001b[0;32m     12\u001b[0m \u001b[1;33m\u001b[0m\u001b[0m\n",
      "\u001b[1;31mTypeError\u001b[0m: Can't instantiate abstract class Car_x with abstract method mileage"
     ]
    }
   ],
   "source": [
    "#Example of the error:\n",
    "\n",
    "from abc import ABC, abstractmethod   \n",
    "class Car_x(ABC): \n",
    "    @abstractmethod\n",
    "    def mileage(self):   \n",
    "        pass  \n",
    "    def name(self):\n",
    "        pass\n",
    "\n",
    "c3=Car_x() # it will give an error\n",
    " \n"
   ]
  }
 ],
 "metadata": {
  "kernelspec": {
   "display_name": "Python 3 (ipykernel)",
   "language": "python",
   "name": "python3"
  },
  "language_info": {
   "codemirror_mode": {
    "name": "ipython",
    "version": 3
   },
   "file_extension": ".py",
   "mimetype": "text/x-python",
   "name": "python",
   "nbconvert_exporter": "python",
   "pygments_lexer": "ipython3",
   "version": "3.9.13"
  }
 },
 "nbformat": 4,
 "nbformat_minor": 5
}
